{
 "cells": [
  {
   "cell_type": "markdown",
   "id": "67584cbe-809e-4775-ac84-be9d3038521a",
   "metadata": {},
   "source": [
    "# Tempo di fuga del moto Browniano\n",
    "Lo scopo di questo laboratorio è studiare il tempo di uscita di un moto Browniano da alcuni intorni dell'origine.\n",
    "\n",
    "Se state eseguendo questo notebook dal Binder tenete sempre da conto l'efficienza delle variabili che state utilizzando."
   ]
  },
  {
   "cell_type": "code",
   "execution_count": 6,
   "id": "c327865d-5f88-4aa0-8be5-9dc5cc5d98fe",
   "metadata": {},
   "outputs": [],
   "source": [
    "import numpy as np\n",
    "import matplotlib.pyplot as plt\n",
    "from ipywidgets import interactive\n",
    "\n",
    "rng = np.random.default_rng(seed=12346)"
   ]
  },
  {
   "cell_type": "markdown",
   "id": "be70a2bc-89f8-49f0-b294-ee9bfe884ea1",
   "metadata": {},
   "source": [
    "## Esercizio 1: moto Browniano sulla retta\n",
    "**Obiettivo:** studiare il tempio medio di uscita di un moto Browniano da un intorno $[-r,r]$ dell'origine."
   ]
  },
  {
   "cell_type": "markdown",
   "id": "03e739d7-144c-48e1-b235-13facf2cd9c5",
   "metadata": {},
   "source": [
    "### Probabilità di uscita da intervalli\n",
    "**Obiettivo:** calcolare la probabilità del tempo di uscita da intervallo entro il tempo $T$ e studiarne la dipendenza da $r$.\n",
    "\n",
    "C'è piena libertà su come affrontare questo punto. Pongo solo all'attenzione il fatto che i parametri su \"numero di passi\" e \"tempo massimo di simulazione\" $T$ possono avere grandi effetti sia sulle risposte all'esercizio che alla sua complessità di calcolo. "
   ]
  },
  {
   "cell_type": "code",
   "execution_count": null,
   "id": "9b148a41-0822-4162-a929-d10282f19489",
   "metadata": {},
   "outputs": [],
   "source": [
    "# Probabilità di uscita dall'intervallo [-r, r]"
   ]
  },
  {
   "cell_type": "markdown",
   "id": "b2480a10-b6dd-40dc-a9a9-eb084cc5e08e",
   "metadata": {},
   "source": [
    "### Tempo medio di uscita dall'intervallo  $[-r,r]$\n",
    "**Obiettivo:** calcolare il tempo medio di uscita dall'intervallo $[-r, r]$ condizionata all'uscita dall'intervallo entro il tempo $T$ e studiarne la dipendenza da $r$."
   ]
  },
  {
   "cell_type": "code",
   "execution_count": null,
   "id": "773b7f7e-8fba-4f4c-9fa2-83e7fb8776ac",
   "metadata": {},
   "outputs": [],
   "source": [
    "# Studio del tempo medio di uscita dall'intervallo [-r,r]"
   ]
  },
  {
   "cell_type": "markdown",
   "id": "039b6b2a-cb8f-499f-9542-e6cc75697922",
   "metadata": {},
   "source": [
    "### Tempo medio di uscita dall'intervallo $[-a, b]$\n",
    "**Obiettivo:** calcolare il tempo medio di uscita dall'intervallo $[-a, b]$ condizionata all'uscita dall'intervallo entro il tempo $T$ e studiarne la dipendenza dai parametri $a,b$."
   ]
  },
  {
   "cell_type": "code",
   "execution_count": null,
   "id": "14188fbc-a67a-4548-a8aa-064df5171935",
   "metadata": {},
   "outputs": [],
   "source": [
    "# Studio del tempo medio di uscita dall'intervallo [-a, b]"
   ]
  },
  {
   "cell_type": "markdown",
   "id": "b0570a43-e8ca-46c4-a350-7188f9f2c9d1",
   "metadata": {},
   "source": [
    "## Esercizio 2: moto Browniano bidimensionale\n",
    "**Obiettivo:** calcolare la probabilità di uscita dal cerchio di raggio $r$ centrata nell'origine entro il tempo $T$ e studiarne la dipendenza da $r$.\n",
    "\n",
    "### Simulazione di un moto Browniano bidimensionale\n",
    "**Obiettivo:** simulare delle traiettorie di un moto Browniano bidimensionale e graficarle, una alla volta.\n",
    "\n",
    "Ricordo che un moto Browniano bidimensionale $(B_t^{(2)})_t$ è del tipo $B_t^{(2)} = (X_t, Y_t)$ dove $(X_t)_t$ e $(Y_t)_t$ sono moti Browniani unidimensionali indipendenti. Analogamente si può scrivere\n",
    "$$\n",
    "B_{t+s}^{(2)} - B_{t}^{(2)} = \\begin{pmatrix} Z \\\\ W \\end{pmatrix},\n",
    "$$\n",
    "dove $Z, W$ sono variabili aleatorie e identicamente distribuite come $\\mathcal{N}(0, s)$."
   ]
  },
  {
   "cell_type": "code",
   "execution_count": null,
   "id": "a6fa7452-1d76-472a-a5e9-ec8e63d969db",
   "metadata": {},
   "outputs": [],
   "source": [
    "# Generazione di un moto Browniano bidimensionale"
   ]
  },
  {
   "cell_type": "markdown",
   "id": "31426172-2e2e-425f-aea3-4379c46abf6f",
   "metadata": {},
   "source": [
    "### Probabilità di uscita dal cerchio di raggio $r$\n",
    "**Obiettivo:** calcolare la probabilità di uscita dal cerchio di raggio $r$ centrata nell'origine entro il tempo $T$ e studiarne la dipendenza da $r$.\n",
    "\n",
    "È doveroso porre ancora l'attenzione sulla limitazione di risorse del _Binder_, se lo state utilizzando."
   ]
  },
  {
   "cell_type": "code",
   "execution_count": 9,
   "id": "e84a8f72-d758-4dd1-b491-2d594299377f",
   "metadata": {},
   "outputs": [
    {
     "name": "stdout",
     "output_type": "stream",
     "text": [
      "1.0 0.1\n",
      "1.0 0.3111111111111111\n",
      "1.0 0.5222222222222223\n",
      "1.0 0.7333333333333333\n",
      "1.0 0.9444444444444444\n",
      "1.0 1.1555555555555557\n",
      "1.0 1.3666666666666667\n",
      "1.0 1.577777777777778\n",
      "1.0 1.788888888888889\n",
      "0.99 2.0\n"
     ]
    }
   ],
   "source": [
    "# Probabilità di uscita dal cerchio di raggio r\n",
    "def generate_trajectories(n_traj=10, n_timesteps=100, end_time=1):\n",
    "    step_length = end_time / n_timesteps\n",
    "\n",
    "    y = np.cumsum(np.append(np.zeros((n_traj, 1)), rng.normal(0, np.sqrt(step_length), size=(n_traj, n_timesteps)), axis=1) , axis=1)\n",
    "    x = np.linspace(0, end_time, n_timesteps+1)\n",
    "\n",
    "    return x,y\n",
    "\n",
    "def probability_of_escape(radius=1, end_point=10, n_steps=100, n_trajectories=100):\n",
    "    n_escapes = 0\n",
    "    for i in range(n_trajectories):\n",
    "        _, y = generate_trajectories(n_traj=2, n_timesteps=n_steps, end_time=end_point)\n",
    "        for i in range(len(y[0])):\n",
    "            x_i = y[0][i]\n",
    "            y_i = y[1][i]\n",
    "            if x_i**2 + y_i**2 >= radius**2:\n",
    "                n_escapes+= 1\n",
    "                break\n",
    "    return n_escapes/n_trajectories\n",
    "\n",
    "for r in np.linspace(0.1, 2, 10):\n",
    "    print(probability_of_escape(radius=r), r)"
   ]
  },
  {
   "cell_type": "markdown",
   "id": "281fa859-2458-477f-9098-b64a5122be09",
   "metadata": {},
   "source": [
    "### Tempo medio di uscita dal cerchio di raggio $r$\n",
    "**Obiettivo:** calcolare il tempo medio di uscita dal cerchio di raggio $r$ centrata nell'origine, condizionato all'uscita entro il tempo $T$, e studiarne la dipendenza da $r$."
   ]
  },
  {
   "cell_type": "code",
   "execution_count": 16,
   "id": "c91f37a3-ebca-431a-b754-3676c8b76007",
   "metadata": {},
   "outputs": [
    {
     "data": {
      "text/plain": [
       "[<matplotlib.lines.Line2D at 0x106892900>]"
      ]
     },
     "execution_count": 16,
     "metadata": {},
     "output_type": "execute_result"
    },
    {
     "data": {
      "image/png": "[encoded data removed]",
      "text/plain": [
       "<Figure size 640x480 with 1 Axes>"
      ]
     },
     "metadata": {},
     "output_type": "display_data"
    }
   ],
   "source": [
    "# Tempo medio di uscita dal cerchio di raggio $r$\n",
    "def average_escape_time(radius=1, end_point=20, n_steps=300, n_trajectories=100):\n",
    "    escape_times = []\n",
    "    for i in range(n_trajectories):\n",
    "        x, y = generate_trajectories(n_traj=2, n_timesteps=n_steps, end_time=end_point)\n",
    "        for i in range(len(y[0])):\n",
    "            x_i = y[0][i]\n",
    "            y_i = y[1][i]\n",
    "            if x_i**2 + y_i**2 >= radius**2:\n",
    "                escape_times.append(x[i])\n",
    "                break\n",
    "    return escape_times\n",
    "radii = np.linspace(0.1, 4, 30)\n",
    "average_escape = []\n",
    "for radius in radii:\n",
    "    average_escape.append(np.array(average_escape_time(radius=radius)).mean())\n",
    "\n",
    "fig, ax = plt.subplots(1,1)\n",
    "ax.plot(radii, np.array(average_escape), c='blue')\n",
    "ax.plot(radii, 2*radii, c='red')"
   ]
  },
  {
   "cell_type": "markdown",
   "id": "1195dce9-4884-41ac-a211-8f04286dd834",
   "metadata": {},
   "source": [
    "## Esercizio 3: moto Browniano tridimensionale\n",
    "**Obiettivo:** calcolare la probabilità di uscita da una sfera di raggio $r$ centrata nell'origine entro il tempo $T$ e studiarne la dipendenza da $r$.\n",
    "\n",
    "### Simulazione di un moto Browniano tridimensionale\n",
    "**Obiettivo:** simulare delle traiettorie di un moto Browniano tridimensionale e graficarle, una alla volta.\n",
    "\n",
    "Ricordo che un moto Browniano tridimensionale $(B_t^{(3)})_t$ è del tipo $B_t^{(3)} = (X_t, Y_t, Z_t)$ dove $(X_t)_t, (Y_t)_t, (Z_t)_t$ sono moti Browniani unidimensionali indipendenti. Analogamente si può scrivere\n",
    "$$\n",
    "B_{t+s}^{(3)} - B_{t}^{(3)} = \\begin{pmatrix} Z_1 \\\\ Z_2 \\\\ Z_3 \\end{pmatrix},\n",
    "$$\n",
    "dove $Z_j$ sono variabili aleatorie e identicamente distribuite come $\\mathcal{N}(0, s)$."
   ]
  },
  {
   "cell_type": "code",
   "execution_count": null,
   "id": "fd07b1d6-f958-4ac1-b372-755a2d93a53c",
   "metadata": {},
   "outputs": [],
   "source": [
    "# Simulazione di un moto Browniano tridimensionale"
   ]
  },
  {
   "cell_type": "markdown",
   "id": "f231cc18-93fb-40ce-8eb8-1ba400d690d3",
   "metadata": {},
   "source": [
    "### Probabilità di uscita da una sfera di raggio $r$\n",
    "**Obiettivo:** calcolare la probabilità di uscita da una sfera di raggio $r$ centrata nell'origine entro il tempo $T$ e studiarne la dipendenza da $r$.\n"
   ]
  },
  {
   "cell_type": "code",
   "execution_count": null,
   "id": "c24cf35d-70a3-4093-8e7c-8ba26b46527a",
   "metadata": {},
   "outputs": [],
   "source": [
    "# Probabilità di uscita da una sfera di raggio $r$"
   ]
  }
 ],
 "metadata": {
  "kernelspec": {
   "display_name": "Python 3 (ipykernel)",
   "language": "python",
   "name": "python3"
  },
  "language_info": {
   "codemirror_mode": {
    "name": "ipython",
    "version": 3
   },
   "file_extension": ".py",
   "mimetype": "text/x-python",
   "name": "python",
   "nbconvert_exporter": "python",
   "pygments_lexer": "ipython3",
   "version": "3.12.0"
  }
 },
 "nbformat": 4,
 "nbformat_minor": 5
}
