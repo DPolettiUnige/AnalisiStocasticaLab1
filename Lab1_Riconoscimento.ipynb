{
 "cells": [
  {
   "cell_type": "markdown",
   "id": "24f21a9b-d532-4dae-912b-172956b75f90",
   "metadata": {},
   "source": [
    "# Riconoscere un moto Browniano, trova l'intruso\n",
    "\n",
    "L'obiettivo di questo quaderno è quello di visualizzare un moto Browniano e familiarizzare con l'interfaccia di _Jupyter Notebok_.\n",
    "\n",
    "L'interfaccia è divisa in blocchi che possono essere eseguiti indipendentemente ma in maniera additiva.\n",
    "\n",
    "Anche questa sezione di testo è un blocco. Cliccandoci due volte sopra vedrete comparire il codice _Markdown_ usato per generarla. Premendo poi <kbd>Shift</kbd> + <kbd>Enter</kbd> ricompilerete il blocco, facendolo tornare nella sua visualizzazione \"bella\"."
   ]
  },
  {
   "cell_type": "markdown",
   "id": "e29b3a5e-200a-4251-9406-a52de427762a",
   "metadata": {},
   "source": [
    "In _Jupyter Notebook_ si possono anche generare blocchi di codice eseguibili. La natura di ogni blocco viene selezionata nella barra degli strumenti in alto, mentre il linguaggio da utilizzare viene scelto dall'interprete, in alto a destra. \n",
    "\n",
    "Il prossimo blocco è codice _Python_ ed inizializza i pacchetti che utilizzeremo:\n",
    "- `numpy` è il pacchetto fondamentale per operazioni con la matematica. Per esempio permette di fare la moltiplicazione tra vettori.\n",
    "- `matplotlib` è il pacchetto fondamentale per generare grafici. `pyplot`è il modulo base per gestire i grafici.\n",
    "- `ipywidgets` è un pacchetto per aggiungere a _Notebook_ alcuni _widget_ di comodità. `interactive` è il widget che permette di interagire con i grafici già creati, tra le varie cose, senza dover manualmente eseguire il codice.\n",
    "\n",
    "Le altre istruzioni servono per:\n",
    "- `plt.rcParams['text.usetex']` è il parametro di `matplotlib.pyplot`che permette (o meno) di usare le sintassi _TeX_ nei grafici.\n",
    "- `rng = np.random.default_rng(seed=12346)` inizializza il generatore di numeri casuali. Specifichiamo il parametro `seed=12346` così che ogni esecuzione di questo codice produca sempre gli stessi risultati. Il numero `12346` di per sè non ha nulla di speciale.\n"
   ]
  },
  {
   "cell_type": "code",
   "execution_count": 1,
   "id": "6d9bd6e7-1c66-4c4b-9933-eaf7aa07c64d",
   "metadata": {},
   "outputs": [],
   "source": [
    "import numpy as np\n",
    "import matplotlib.pyplot as plt\n",
    "from ipywidgets import interactive\n",
    "\n",
    "plt.rcParams['text.usetex'] = True  \n",
    "rng = np.random.default_rng(seed=12346)"
   ]
  },
  {
   "cell_type": "code",
   "execution_count": null,
   "id": "5f830084-1e72-4841-a4b3-e58cb2e174bd",
   "metadata": {},
   "outputs": [],
   "source": []
  }
 ],
 "metadata": {
  "kernelspec": {
   "display_name": "Python 3 (ipykernel)",
   "language": "python",
   "name": "python3"
  },
  "language_info": {
   "codemirror_mode": {
    "name": "ipython",
    "version": 3
   },
   "file_extension": ".py",
   "mimetype": "text/x-python",
   "name": "python",
   "nbconvert_exporter": "python",
   "pygments_lexer": "ipython3",
   "version": "3.12.0"
  }
 },
 "nbformat": 4,
 "nbformat_minor": 5
}
