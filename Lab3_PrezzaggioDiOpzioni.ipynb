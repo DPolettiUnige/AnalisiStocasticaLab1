{
 "cells": [
  {
   "cell_type": "markdown",
   "id": "321f2bed-d448-49cf-a0fc-b1a70feaa478",
   "metadata": {},
   "source": [
    "# Laboratorio 3 - prezzaggio di opzioni"
   ]
  },
  {
   "cell_type": "markdown",
   "id": "1365f169-850d-476f-a0e8-ac144158f8a2",
   "metadata": {},
   "source": [
    "## Simulazione moto Browniano geometrico\n",
    "\n",
    "Il moto Browniano geometrico è descritto dall'equazione differenziale stocastica.\n",
    "$$\n",
    "dS(t) = \\mu S(t) dt + \\sigma S(t) dW(t),\n",
    "$$\n",
    "dove $W(t)$ è un moto Browniano standard, mentre $\\mu \\in \\mathbb{R}$ e $\\sigma >0$ sono rispettivamente _drift_ e _volatilità_"
   ]
  },
  {
   "cell_type": "markdown",
   "id": "f52ac2ec-c4c7-405c-9baa-66550310d0e9",
   "metadata": {},
   "source": [
    "### Schema Eulero-Maruyama\n",
    "\n",
    "Considerato l'orizzonte temporale $[0,T]$ lo si divide in $N$ intervalli di ampiezza $\\Delta t = \\frac{T}{N}$.\n",
    "Scelto il valore di partenza $S(0)$ si simula una traiettoria sui punti della partizione $t_j = j\\Delta t$ incrementalmente, grazie alla formula\n",
    "$$\n",
    "    S(t_{j+1}) = S(t_j) + \\mu S(t_j) \\Delta t + \\sigma S(t_j) Z \\sqrt{\\Delta t}, \\quad Z \\sim \\mathcal{N}(0,1).\n",
    "$$"
   ]
  },
  {
   "cell_type": "code",
   "execution_count": 184,
   "id": "b09e5e91-5415-46a3-8a26-72ec5d118bde",
   "metadata": {},
   "outputs": [],
   "source": [
    "import numpy as np\n",
    "import matplotlib.pyplot as plt\n",
    "from scipy.stats import norm\n",
    "rng = np.random.default_rng(seed=12346)"
   ]
  },
  {
   "cell_type": "code",
   "execution_count": 39,
   "id": "9b9eaee4-5256-480f-95bb-2b0979562dc2",
   "metadata": {},
   "outputs": [],
   "source": [
    "## Definire una funzione che simuli il MBG tramite Eulero-Maruyama"
   ]
  },
  {
   "cell_type": "code",
   "execution_count": 1,
   "id": "65d353a0-c7f4-46bc-8fb1-7456d3a38b65",
   "metadata": {},
   "outputs": [],
   "source": [
    "## Simulare il processo con alcuni valori (e.g. S(0) = 100, sigma=0.02, mu=0.04, T=1)"
   ]
  },
  {
   "cell_type": "markdown",
   "id": "3ab20d32-6f85-45ce-ae89-ad7b43227089",
   "metadata": {},
   "source": [
    "### Soluzione esatta\n",
    "\n",
    "La SDE del moro browniano geometrico può essere risolta esplicitamente per ottenere la soluzione\n",
    "$$\n",
    "    S(t) = S(0)\\exp \\left( \\left(\\mu - \\frac{\\sigma^2}{2}\\right)t + \\sigma W(t) \\right).\n",
    "$$"
   ]
  },
  {
   "cell_type": "code",
   "execution_count": 210,
   "id": "991d4d97-821f-421b-b87b-ff56a57be340",
   "metadata": {},
   "outputs": [],
   "source": [
    "## Definire una funzione che simuli il MBG tramite soluzione esatta"
   ]
  },
  {
   "cell_type": "code",
   "execution_count": 2,
   "id": "36168992-05e6-406b-aabc-1e74a896c831",
   "metadata": {},
   "outputs": [],
   "source": [
    "## Simulare il processo con alcuni valori (e.g. S(0) = 100, sigma=0.02, mu=0.04, T=1)"
   ]
  },
  {
   "cell_type": "markdown",
   "id": "a40e7709-fcbd-4ddf-a870-6c01060e6838",
   "metadata": {},
   "source": [
    "### Analisi dei risultati\n",
    "Controllare le simulazioni ottenute graficando le distribuzioni a diversi tempi e confrontandone i momenti, ricordando che\n",
    "$$\n",
    "    \\mathbb{E}[S(t)] = S(0)e^{\\mu t}, \\quad \\operatorname{Var}(S(t)) = S(0)^2 e^{2\\mu t}\\left( e^{\\sigma^2 t} - 1 \\right).\n",
    "$$\n"
   ]
  },
  {
   "cell_type": "code",
   "execution_count": null,
   "id": "637a2dc5-be15-42ba-845b-6229bdfafa8c",
   "metadata": {},
   "outputs": [],
   "source": [
    "## Analisi dei risultati"
   ]
  },
  {
   "cell_type": "markdown",
   "id": "868c2bb3-4821-4804-9822-f36d2601c759",
   "metadata": {},
   "source": [
    "## Prezzaggio di opzioni Call in misura neutrale al rischio\n",
    "\n",
    "Considerata un'opzione Call con strike price $K$, alla scadenza $T$ essa ha valore pari a \n",
    "$$\n",
    "    C(T,S(T)) = \\left( S(t) - K \\right)^+.\n",
    "$$\n",
    "\n",
    "### Prezzaggio tramite simulazione \n",
    "Nella misura di probabilità neutrale al rischio, il sottostante evolve secondo la legge \n",
    "$$\n",
    "    dS(t) = r S(t) dt + \\sigma S(t)d\\tilde{W}(t),\n",
    "$$\n",
    "ed il valore dell'opzione all'istante iniziale può essere ottenuto tramite la formula\n",
    "$$\n",
    "    C(0, S(0)) = e^{-rT}\\tilde{\\mathbb{E}}\\left[  \\left( S(T) - K \\right)^+ \\right].\n",
    "$$"
   ]
  },
  {
   "cell_type": "code",
   "execution_count": 211,
   "id": "b6ff85f9-e8ed-4fe4-85f1-5dc96d342bc6",
   "metadata": {},
   "outputs": [],
   "source": [
    "## Definire una funzione che calcoli il prezzo di un'opzione call tramite simulazione"
   ]
  },
  {
   "cell_type": "code",
   "execution_count": 3,
   "id": "4610c345-7d16-4456-a72f-3086b2dd25e1",
   "metadata": {},
   "outputs": [],
   "source": [
    "## Calcolare il prezzo di un'opzione Call per alcuni parametri (e.g. S(0) = 100, sigma=0.02, r=0.04, T=1, K=130)"
   ]
  },
  {
   "cell_type": "markdown",
   "id": "b8de1667-5435-4482-bcff-b213f6111b94",
   "metadata": {},
   "source": [
    "### Prezzaggio tramite Black-Scholes-Merton\n",
    "\n",
    "Risolvendo le equazioni di Black-Sholes si arriva ad una formula chiusa per il prezzo data da\n",
    "$$\n",
    "    C(0, S(0)) = S(0)\\Phi(d_1) - Ke^{-rT}\\Phi(d_2),\n",
    "$$\n",
    "dove\n",
    "$$\n",
    "    d_1 = \\frac{\\ln \\left(\\frac{S(T)}{K}\\right) + T\\left(r + \\frac{\\sigma^2}{2}\\right)}{\\sigma \\sqrt{T}}, \\quad d_2 = d_1 - \\sigma \\sqrt{T},\n",
    "$$\n",
    "e $\\Phi$ è la funzione di distribuzione cumulata di una normale standard."
   ]
  },
  {
   "cell_type": "code",
   "execution_count": 226,
   "id": "824d08dd-2141-4c16-9651-793cb7fa35e9",
   "metadata": {},
   "outputs": [],
   "source": [
    "## Definire una funzione che calcoli il prezzo di un'opzione call tramite formula chiusa"
   ]
  },
  {
   "cell_type": "code",
   "execution_count": 4,
   "id": "1f637213-b677-45a1-8806-3e16ce763665",
   "metadata": {},
   "outputs": [],
   "source": [
    "## Calcolare il prezzo di un'opzione Call per alcuni parametri e confrontarlo con quello simulato "
   ]
  },
  {
   "cell_type": "markdown",
   "id": "e436431a-2e54-4528-bc19-16d573b87bd1",
   "metadata": {},
   "source": [
    "## Prezzaggio di opzioni Put in misura neutrale al rischio\n",
    "\n",
    "Similmente a quanto fatto prima, si può considerare un'opzione Put con strike price $K$, alla scadenza $T$ essa ha valore pari a \n",
    "$$\n",
    "    P(T,S(T)) = \\left(K - S(t)\\right)^+.\n",
    "$$\n",
    "\n",
    "### Prezzaggio tramite simulazione \n",
    "Nella misura di probabilità neutrale al rischio, il sottostante evolve secondo la legge \n",
    "$$\n",
    "    dS(t) = r S(t) dt + \\sigma S(t)d\\tilde{W}(t),\n",
    "$$\n",
    "ed il valore dell'opzione all'istante iniziale può essere ottenuto tramite la formula\n",
    "$$\n",
    "    P(0, S(0)) = e^{-rT}\\tilde{\\mathbb{E}}\\left[  \\left( K - S(T) \\right)^+ \\right].\n",
    "$$\n",
    "\n",
    "### Prezzaggio tramite formula esatta\n",
    "Risolvendo le equazioni di Black-Sholes si arriva ad una formula chiusa per il prezzo data da\n",
    "$$\n",
    "    P(0, S(0)) = Ke^{-rT}\\Phi(-d_2) -S(0)\\Phi(-d_1),\n",
    "$$\n",
    "dove $d_1, d_2, \\Phi$ hanno lo stesso significato che avevano per opzioni Call."
   ]
  },
  {
   "cell_type": "code",
   "execution_count": null,
   "id": "61ef1672-2654-4e33-98a9-bdbb3bb99935",
   "metadata": {},
   "outputs": [],
   "source": [
    "## Prezzare opzioni Put con entrambi i metodi"
   ]
  },
  {
   "cell_type": "markdown",
   "id": "31c3111f-abf8-4e50-8fb5-f87598d0a269",
   "metadata": {},
   "source": [
    "## Put-Call Parity\n",
    "In un mercato senza arbitraggio vale che il prezzo di una Call e di una Put con lo stesso strike price siano legati dalla formula\n",
    "$$\n",
    "    C(0,S(0)) - P(0,S(0)) = S(0) - e^{-rT}K.\n",
    "$$\n",
    "Verificare che vale analiticamente con la formula esatta e tramite simulazioni."
   ]
  },
  {
   "cell_type": "code",
   "execution_count": null,
   "id": "0fe0fc34-f8b4-449e-a46c-2b9a465ad75d",
   "metadata": {},
   "outputs": [],
   "source": [
    "## verificare la put-call parity"
   ]
  }
 ],
 "metadata": {
  "kernelspec": {
   "display_name": "Python 3 (ipykernel)",
   "language": "python",
   "name": "python3"
  },
  "language_info": {
   "codemirror_mode": {
    "name": "ipython",
    "version": 3
   },
   "file_extension": ".py",
   "mimetype": "text/x-python",
   "name": "python",
   "nbconvert_exporter": "python",
   "pygments_lexer": "ipython3",
   "version": "3.12.0"
  }
 },
 "nbformat": 4,
 "nbformat_minor": 5
}
